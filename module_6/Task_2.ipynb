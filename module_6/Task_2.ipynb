{
 "cells": [
  {
   "cell_type": "code",
   "execution_count": 1,
   "id": "2ed04353",
   "metadata": {},
   "outputs": [
    {
     "data": {
      "text/plain": [
       "'C:\\\\spark\\\\spark-3.3.1-bin-hadoop3'"
      ]
     },
     "execution_count": 1,
     "metadata": {},
     "output_type": "execute_result"
    }
   ],
   "source": [
    "import findspark\n",
    "findspark.init()\n",
    "findspark.find()\n",
    "import pyspark\n",
    "findspark.find()"
   ]
  },
  {
   "cell_type": "code",
   "execution_count": 3,
   "id": "7188b41c",
   "metadata": {},
   "outputs": [],
   "source": [
    "import random\n",
    "from pyspark import SparkConf, SparkContext\n",
    "from pyspark.sql import SparkSession\n",
    "conf = pyspark.SparkConf().setAppName('SparkApp').setMaster('local')\n",
    "sc = pyspark.SparkContext(conf=conf)\n",
    "spark = SparkSession(sc)\n"
   ]
  },
  {
   "cell_type": "code",
   "execution_count": 4,
   "id": "d045173f",
   "metadata": {},
   "outputs": [],
   "source": [
    "from pyspark.sql.types import StructType,StructField, StringType, IntegerType, DoubleType\n",
    "from pyspark.sql.functions import col, desc, max, min, asc, desc\n",
    "schema = StructType(\n",
    "    [\n",
    "        StructField(\"id\", IntegerType(), True),\n",
    "        StructField(\"Name\", StringType(), True),\n",
    "        StructField(\"Author\", StringType(), True),\n",
    "        StructField(\"User Rating\", DoubleType(), True),\n",
    "        StructField(\"Reviews\", DoubleType(), True),\n",
    "        StructField(\"Price\", DoubleType(), True),\n",
    "        StructField(\"Year\", DoubleType(), True),\n",
    "        StructField(\"Genre\", StringType(), True),\n",
    "    ]\n",
    ")\n",
    "df_with_schema = (spark.read.format(\"csv\")\n",
    "      .option(\"header\", \"true\")\n",
    "      .schema(schema)\n",
    "      .load(\"amazon.csv\"))\n",
    "    \n",
    "# df = (spark.read.format(\"csv\")\n",
    "#   .option(\"inferSchema\", \"true\")\n",
    "#   .option(\"header\", \"true\")\n",
    "#   .load(csv_file))\n",
    "\n"
   ]
  },
  {
   "cell_type": "code",
   "execution_count": 5,
   "id": "45708bd0",
   "metadata": {},
   "outputs": [
    {
     "name": "stdout",
     "output_type": "stream",
     "text": [
      "+---------------+-----------+\n",
      "|         Author|User Rating|\n",
      "+---------------+-----------+\n",
      "|Bill Martin Jr.|        4.9|\n",
      "|Bill Martin Jr.|        4.9|\n",
      "|     Dav Pilkey|        4.9|\n",
      "|     Dav Pilkey|        4.9|\n",
      "|     Dav Pilkey|        4.9|\n",
      "+---------------+-----------+\n",
      "only showing top 5 rows\n",
      "\n"
     ]
    }
   ],
   "source": [
    "\n",
    "df_with_schema.select(\"Author\", \"User Rating\").where(col(\"User Rating\") == df_with_schema.select(max('User Rating')).collect()[0][0]).show(5)"
   ]
  },
  {
   "cell_type": "code",
   "execution_count": 6,
   "id": "c8c0c4a8",
   "metadata": {},
   "outputs": [
    {
     "name": "stdout",
     "output_type": "stream",
     "text": [
      "+------------+-----------+\n",
      "|      Author|User Rating|\n",
      "+------------+-----------+\n",
      "|J.K. Rowling|        3.3|\n",
      "|  Harper Lee|        3.6|\n",
      "|   E L James|        3.8|\n",
      "+------------+-----------+\n",
      "only showing top 3 rows\n",
      "\n"
     ]
    }
   ],
   "source": [
    "df_with_schema.select(\"Author\", \"User Rating\").orderBy(asc(\"User Rating\")).show(3)"
   ]
  },
  {
   "cell_type": "code",
   "execution_count": 8,
   "id": "f7781bda",
   "metadata": {},
   "outputs": [
    {
     "name": "stdout",
     "output_type": "stream",
     "text": [
      "+---------------+------------+\n",
      "|         Author|sum(Reviews)|\n",
      "+---------------+------------+\n",
      "|Suzanne Collins|    278329.0|\n",
      "+---------------+------------+\n",
      "only showing top 1 row\n",
      "\n"
     ]
    }
   ],
   "source": [
    "df_with_schema.groupBy(\"Author\").sum(\"Reviews\").orderBy(desc(\"sum(Reviews)\")).show(1)"
   ]
  },
  {
   "cell_type": "code",
   "execution_count": 9,
   "id": "131dc11a",
   "metadata": {},
   "outputs": [
    {
     "name": "stdout",
     "output_type": "stream",
     "text": [
      "+-----------+-----+\n",
      "|     Author|count|\n",
      "+-----------+-----+\n",
      "|Jeff Kinney|   12|\n",
      "+-----------+-----+\n",
      "only showing top 1 row\n",
      "\n"
     ]
    }
   ],
   "source": [
    "df_with_schema.groupBy(\"Name\", \"Author\").count().orderBy(desc(\"count\")).select(\"Name\", \"Author\").groupBy(\"Author\").count().orderBy(desc(\"count\")).show(1)"
   ]
  },
  {
   "cell_type": "code",
   "execution_count": 25,
   "id": "51064d52",
   "metadata": {},
   "outputs": [
    {
     "name": "stdout",
     "output_type": "stream",
     "text": [
      "+------------------+------------+-----------+-------+\n",
      "|              Name|      Author|User Rating|  Genre|\n",
      "+------------------+------------+-----------+-------+\n",
      "|The Casual Vacancy|J.K. Rowling|        3.3|Fiction|\n",
      "+------------------+------------+-----------+-------+\n",
      "only showing top 1 row\n",
      "\n"
     ]
    }
   ],
   "source": [
    "df_with_schema.where(col(\"Genre\") == \"Fiction\").select(\"Name\", \"Author\", \"User Rating\", \"Genre\").orderBy(asc(\"User Rating\")).show(1)"
   ]
  },
  {
   "cell_type": "code",
   "execution_count": 26,
   "id": "b72f8bcc",
   "metadata": {},
   "outputs": [
    {
     "name": "stdout",
     "output_type": "stream",
     "text": [
      "+--------------------+------------------+-----------+-----------+\n",
      "|                Name|            Author|User Rating|      Genre|\n",
      "+--------------------+------------------+-----------+-----------+\n",
      "|Hamilton: The Rev...|Lin-Manuel Miranda|        4.9|Non Fiction|\n",
      "+--------------------+------------------+-----------+-----------+\n",
      "only showing top 1 row\n",
      "\n"
     ]
    }
   ],
   "source": [
    "df_with_schema.where(col(\"Genre\") == \"Non Fiction\").select(\"Name\", \"Author\", \"User Rating\", \"Genre\").orderBy(desc(\"User Rating\")).show(1)"
   ]
  },
  {
   "cell_type": "code",
   "execution_count": null,
   "id": "23e3094a",
   "metadata": {},
   "outputs": [],
   "source": []
  }
 ],
 "metadata": {
  "kernelspec": {
   "display_name": "Python 3 (ipykernel)",
   "language": "python",
   "name": "python3"
  },
  "language_info": {
   "codemirror_mode": {
    "name": "ipython",
    "version": 3
   },
   "file_extension": ".py",
   "mimetype": "text/x-python",
   "name": "python",
   "nbconvert_exporter": "python",
   "pygments_lexer": "ipython3",
   "version": "3.9.13"
  }
 },
 "nbformat": 4,
 "nbformat_minor": 5
}
