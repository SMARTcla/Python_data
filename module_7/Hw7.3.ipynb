{
 "cells": [
  {
   "cell_type": "code",
   "execution_count": 1,
   "id": "d6b86ae2",
   "metadata": {},
   "outputs": [],
   "source": [
    "from sklearn.datasets import load_diabetes\n",
    "from sklearn.linear_model import RidgeClassifier\n",
    "from sklearn.model_selection import train_test_split\n",
    "import numpy as np\n",
    "iris_dataset = load_diabetes(return_X_y=True)\n",
    "X, y = iris_dataset \n"
   ]
  },
  {
   "cell_type": "code",
   "execution_count": 2,
   "id": "66f93c69",
   "metadata": {},
   "outputs": [
    {
     "name": "stdout",
     "output_type": "stream",
     "text": [
      "0.024886877828054297\n",
      "0.0025188916876574307\n"
     ]
    }
   ],
   "source": [
    "X_train, X_test, y_train, y_test = train_test_split(X, y, test_size=0.10, shuffle=True, random_state=0)\n",
    "clf = RidgeClassifier().fit(X_test, y_test)\n",
    "print(clf.score(X, y))\n",
    "y_pred = clf.predict(X_train)\n",
    "print((y_pred == y_train).astype(int).sum() / len(y_pred))"
   ]
  },
  {
   "cell_type": "code",
   "execution_count": 3,
   "id": "326ab6e1",
   "metadata": {},
   "outputs": [
    {
     "name": "stdout",
     "output_type": "stream",
     "text": [
      "0.08597285067873303\n",
      "0.0\n"
     ]
    }
   ],
   "source": [
    "X_train, X_test, y_train, y_test = train_test_split(X, y, test_size=0.90, shuffle=True, random_state=0)\n",
    "clf = RidgeClassifier().fit(X_test, y_test)\n",
    "print(clf.score(X, y))\n",
    "y_pred = clf.predict(X_train)\n",
    "print((y_pred == y_train).astype(int).sum() / len(y_pred))"
   ]
  },
  {
   "cell_type": "code",
   "execution_count": 4,
   "id": "01c432d0",
   "metadata": {},
   "outputs": [
    {
     "name": "stdout",
     "output_type": "stream",
     "text": [
      "0.013574660633484163\n",
      "0.002288329519450801\n"
     ]
    }
   ],
   "source": [
    "X_train, X_test, y_train, y_test = train_test_split(X, y, test_size=0.01, shuffle=True, random_state=0)\n",
    "clf = RidgeClassifier().fit(X_test, y_test)\n",
    "print(clf.score(X, y))\n",
    "y_pred = clf.predict(X_train)\n",
    "print((y_pred == y_train).astype(int).sum() / len(y_pred))"
   ]
  },
  {
   "cell_type": "code",
   "execution_count": 9,
   "id": "ea60ea74",
   "metadata": {},
   "outputs": [
    {
     "name": "stdout",
     "output_type": "stream",
     "text": [
      "0.01583710407239819\n",
      "0.004576659038901602\n"
     ]
    }
   ],
   "source": [
    "X_train, X_test, y_train, y_test = train_test_split(X, y, test_size=0.01)\n",
    "clf = RidgeClassifier().fit(X_test, y_test)\n",
    "print(clf.score(X, y))\n",
    "y_pred = clf.predict(X_train)\n",
    "print((y_pred == y_train).astype(int).sum() / len(y_pred))"
   ]
  },
  {
   "cell_type": "code",
   "execution_count": 10,
   "id": "6f23e991",
   "metadata": {},
   "outputs": [
    {
     "name": "stdout",
     "output_type": "stream",
     "text": [
      "0.10633484162895927\n",
      "0.0\n"
     ]
    }
   ],
   "source": [
    "X_train, X_test, y_train, y_test = train_test_split(X, y, test_size=0.99, shuffle=True, random_state=0)\n",
    "clf = RidgeClassifier().fit(X_test, y_test)\n",
    "print(clf.score(X, y))\n",
    "y_pred = clf.predict(X_train)\n",
    "print((y_pred == y_train).astype(int).sum() / len(y_pred))"
   ]
  },
  {
   "cell_type": "code",
   "execution_count": null,
   "id": "44a204e5",
   "metadata": {},
   "outputs": [],
   "source": []
  }
 ],
 "metadata": {
  "kernelspec": {
   "display_name": "Python 3 (ipykernel)",
   "language": "python",
   "name": "python3"
  },
  "language_info": {
   "codemirror_mode": {
    "name": "ipython",
    "version": 3
   },
   "file_extension": ".py",
   "mimetype": "text/x-python",
   "name": "python",
   "nbconvert_exporter": "python",
   "pygments_lexer": "ipython3",
   "version": "3.10.8"
  }
 },
 "nbformat": 4,
 "nbformat_minor": 5
}
