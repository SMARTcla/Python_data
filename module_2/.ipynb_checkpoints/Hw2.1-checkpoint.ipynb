{
 "cells": [
  {
   "cell_type": "markdown",
   "id": "c1ae15e1-5845-4057-803e-e02e48f5cf60",
   "metadata": {},
   "source": [
    "Вывести первые строки таблицы с помощью метода head"
   ]
  },
  {
   "cell_type": "code",
   "execution_count": 147,
   "id": "105ad863-a220-4474-b4cc-de0b4663ebe5",
   "metadata": {},
   "outputs": [
    {
     "name": "stdout",
     "output_type": "stream",
     "text": [
      "             Регіон   1950   1960   1970  1990  2000  2012 2014 2019\n",
      "0              Крим  230.0  206.0  160.0   130    73   126    —    —\n",
      "1         Вінницька  224.0  192.0  142.0   124    84   112  109   76\n",
      "2         Волинська  247.0  250.0  179.0   153   112   148  141  101\n",
      "3  Дніпропетровська  204.0  204.0  151.0   123    71   112  111   71\n",
      "4          Донецька  271.0  214.0  140.0   109    61    98   82    —\n"
     ]
    }
   ],
   "source": [
    "import pandas as pd\n",
    "import numpy\n",
    "tmp = pd.read_html(\"https://uk.wikipedia.org/wiki/%D0%9D%D0%B0%D1%81%D0%B5%D0%BB%D0%B5%D0%BD%D0%BD%D1%8F_%D0%A3%D0%BA%D1%80%D0%B0%D1%97%D0%BD%D0%B8#%D0%9D%D0%B0%D1%80%D0%BE%D0%B4%D0%B6%D1%83%D0%B2%D0%B0%D0%BD%D1%96%D1%81%D1%82%D1%8C\")\n",
    "data = tmp[10]\n",
    "print(data.head())"
   ]
  },
  {
   "cell_type": "markdown",
   "id": "93e89677-0d77-499a-94d2-d08ab99a1971",
   "metadata": {},
   "source": [
    "Определите количество строк и столбцов в датафрейме (атрибут shape)"
   ]
  },
  {
   "cell_type": "code",
   "execution_count": 148,
   "id": "4b0c02ec-1ece-47a0-a6b4-4510412eac39",
   "metadata": {},
   "outputs": [
    {
     "data": {
      "text/plain": [
       "(28, 9)"
      ]
     },
     "execution_count": 148,
     "metadata": {},
     "output_type": "execute_result"
    }
   ],
   "source": [
    "data.shape"
   ]
  },
  {
   "cell_type": "markdown",
   "id": "e6147cd1-cc80-4f2e-9041-3105ea33a042",
   "metadata": {},
   "source": [
    "Замените в таблице значения \"—\" на значения NaN"
   ]
  },
  {
   "cell_type": "code",
   "execution_count": 149,
   "id": "0abfc746-2625-4039-b92e-057ff992b758",
   "metadata": {},
   "outputs": [],
   "source": [
    "import numpy\n",
    "data.replace(to_replace='—', value=numpy.nan, inplace=True)"
   ]
  },
  {
   "cell_type": "markdown",
   "id": "4bdc5fca-9eae-4b21-b20c-2ba7738a14c0",
   "metadata": {},
   "source": [
    "Определите типы всех столбцов с помощью dataframe.dtypes"
   ]
  },
  {
   "cell_type": "code",
   "execution_count": 150,
   "id": "f3f021ee-5e5f-4b8a-b748-0628e0bfac16",
   "metadata": {},
   "outputs": [
    {
     "data": {
      "text/plain": [
       "Регіон     object\n",
       "1950      float64\n",
       "1960      float64\n",
       "1970      float64\n",
       "1990        int64\n",
       "2000        int64\n",
       "2012        int64\n",
       "2014       object\n",
       "2019       object\n",
       "dtype: object"
      ]
     },
     "execution_count": 150,
     "metadata": {},
     "output_type": "execute_result"
    }
   ],
   "source": [
    "data.dtypes"
   ]
  },
  {
   "cell_type": "markdown",
   "id": "c72c4c2d-0d99-4c0c-a997-bd536e6520a9",
   "metadata": {},
   "source": [
    "Замените типы не числовых колонок на числовые. Подсказка - это колонки где находился символ \"—\""
   ]
  },
  {
   "cell_type": "code",
   "execution_count": 151,
   "id": "beb8e8cc-45c0-4262-b6b6-52f57256467c",
   "metadata": {},
   "outputs": [],
   "source": [
    "for i in data.columns:\n",
    "    if i != 'Регіон':\n",
    "        data[i] = data[i].apply(lambda x: numpy.float16(x)/10)"
   ]
  },
  {
   "cell_type": "markdown",
   "id": "0887b19a-c988-4d61-9642-4a76f8bf6518",
   "metadata": {},
   "source": [
    "Посчитайте, какая доля пропусков содержится в каждой колонке (используйте методы isnull и sum)"
   ]
  },
  {
   "cell_type": "code",
   "execution_count": 152,
   "id": "6513c388-f904-43f0-adb3-40162b6844b2",
   "metadata": {},
   "outputs": [
    {
     "data": {
      "text/plain": [
       "Регіон    0\n",
       "1950      2\n",
       "1960      1\n",
       "1970      1\n",
       "1990      0\n",
       "2000      0\n",
       "2012      0\n",
       "2014      2\n",
       "2019      4\n",
       "dtype: int64"
      ]
     },
     "execution_count": 152,
     "metadata": {},
     "output_type": "execute_result"
    }
   ],
   "source": [
    "pd.isna(data).sum()"
   ]
  },
  {
   "cell_type": "markdown",
   "id": "66f43f6b-5f67-46fe-858f-140602775165",
   "metadata": {},
   "source": [
    "Удалите из таблицы данные по всей стране, последняя строчка таблицы"
   ]
  },
  {
   "cell_type": "code",
   "execution_count": 153,
   "id": "6c459acc-aaf8-447d-b4b1-f7dbc661112a",
   "metadata": {},
   "outputs": [],
   "source": [
    "data = data.drop([27], axis=0)"
   ]
  },
  {
   "cell_type": "markdown",
   "id": "7f4948b4-1f47-495f-ae8b-7d6e33e909f5",
   "metadata": {},
   "source": [
    "Замените отсутствующие данные в столбцах средними значениями по этим столбцам (метод fillna)"
   ]
  },
  {
   "cell_type": "code",
   "execution_count": 154,
   "id": "9cfbab83-0826-499c-a63f-8dce07675009",
   "metadata": {},
   "outputs": [],
   "source": [
    "for i in data.columns:\n",
    "    if i != 'Регіон':\n",
    "        data[i].fillna(value=round(data[i].mean(), 1), inplace=True)"
   ]
  },
  {
   "cell_type": "markdown",
   "id": "5299431c-5373-4cff-b6db-d32dcd356800",
   "metadata": {},
   "source": [
    "Получите список регионов, где уровень рождаемости в 2019 году был выше среднего по Украине"
   ]
  },
  {
   "cell_type": "code",
   "execution_count": 155,
   "id": "3e782ded-58a1-4f2d-add4-39b9e6865133",
   "metadata": {},
   "outputs": [
    {
     "name": "stdout",
     "output_type": "stream",
     "text": [
      "0                  Крим\n",
      "1             Вінницька\n",
      "2             Волинська\n",
      "3      Дніпропетровська\n",
      "4              Донецька\n",
      "5           Житомирська\n",
      "6          Закарпатська\n",
      "7            Запорізька\n",
      "8     Івано-Франківська\n",
      "9              Київська\n",
      "10       Кіровоградська\n",
      "11            Луганська\n",
      "12            Львівська\n",
      "13         Миколаївська\n",
      "14              Одеська\n",
      "15           Полтавська\n",
      "16           Рівненська\n",
      "17              Сумська\n",
      "18        Тернопільська\n",
      "19           Харківська\n",
      "20           Херсонська\n",
      "21          Хмельницька\n",
      "22            Черкаська\n",
      "23          Чернівецька\n",
      "24         Чернігівська\n",
      "25                 Київ\n",
      "26          Севастополь\n",
      "Name: Регіон, dtype: object\n"
     ]
    }
   ],
   "source": [
    "avarage_ua = numpy.float16(tmp[10][\"2019\"].loc[27])/10\n",
    "print(data[\"Регіон\"].loc[data[\"2019\"] > avarage_ua])"
   ]
  },
  {
   "cell_type": "markdown",
   "id": "c6d1722e-2c16-405a-9622-67056b7c24b0",
   "metadata": {},
   "source": [
    "В каком регионе была самая высокая рождаемость в 2014 году?"
   ]
  },
  {
   "cell_type": "code",
   "execution_count": 156,
   "id": "1e3c3761-56b0-44a1-8f3b-59e88f39df59",
   "metadata": {},
   "outputs": [
    {
     "data": {
      "text/html": [
       "<div>\n",
       "<style scoped>\n",
       "    .dataframe tbody tr th:only-of-type {\n",
       "        vertical-align: middle;\n",
       "    }\n",
       "\n",
       "    .dataframe tbody tr th {\n",
       "        vertical-align: top;\n",
       "    }\n",
       "\n",
       "    .dataframe thead th {\n",
       "        text-align: right;\n",
       "    }\n",
       "</style>\n",
       "<table border=\"1\" class=\"dataframe\">\n",
       "  <thead>\n",
       "    <tr style=\"text-align: right;\">\n",
       "      <th></th>\n",
       "      <th>Регіон</th>\n",
       "      <th>1950</th>\n",
       "      <th>1960</th>\n",
       "      <th>1970</th>\n",
       "      <th>1990</th>\n",
       "      <th>2000</th>\n",
       "      <th>2012</th>\n",
       "      <th>2014</th>\n",
       "      <th>2019</th>\n",
       "    </tr>\n",
       "  </thead>\n",
       "  <tbody>\n",
       "    <tr>\n",
       "      <th>16</th>\n",
       "      <td>Рівненська</td>\n",
       "      <td>26.9</td>\n",
       "      <td>26.7</td>\n",
       "      <td>19.3</td>\n",
       "      <td>15.8</td>\n",
       "      <td>11.8</td>\n",
       "      <td>15.9</td>\n",
       "      <td>14.8</td>\n",
       "      <td>10.7</td>\n",
       "    </tr>\n",
       "  </tbody>\n",
       "</table>\n",
       "</div>"
      ],
      "text/plain": [
       "        Регіон  1950  1960  1970  1990  2000  2012  2014  2019\n",
       "16  Рівненська  26.9  26.7  19.3  15.8  11.8  15.9  14.8  10.7"
      ]
     },
     "execution_count": 156,
     "metadata": {},
     "output_type": "execute_result"
    }
   ],
   "source": [
    "data.loc[data['2014'] == data[\"2014\"].max()]"
   ]
  },
  {
   "cell_type": "markdown",
   "id": "d0983c36-ce0c-4213-bb6d-eb0023ceb251",
   "metadata": {},
   "source": [
    "Постройте столбцовую диаграмму рождаемости по регионам в 2019 году"
   ]
  },
  {
   "cell_type": "code",
   "execution_count": 157,
   "id": "765ef27a-3d63-42c1-bcb1-23b8ed1a1286",
   "metadata": {},
   "outputs": [
    {
     "data": {
      "text/plain": [
       "<AxesSubplot:>"
      ]
     },
     "execution_count": 157,
     "metadata": {},
     "output_type": "execute_result"
    },
    {
     "data": {
      "image/png": "[encoded data removed]",
      "text/plain": [
       "<Figure size 640x480 with 1 Axes>"
      ]
     },
     "metadata": {},
     "output_type": "display_data"
    }
   ],
   "source": [
    "data[\"2014\"].plot.bar(x=\"2014\", y=\"count\", rot=0)"
   ]
  }
 ],
 "metadata": {
  "kernelspec": {
   "display_name": "Python 3 (ipykernel)",
   "language": "python",
   "name": "python3"
  },
  "language_info": {
   "codemirror_mode": {
    "name": "ipython",
    "version": 3
   },
   "file_extension": ".py",
   "mimetype": "text/x-python",
   "name": "python",
   "nbconvert_exporter": "python",
   "pygments_lexer": "ipython3",
   "version": "3.10.8"
  }
 },
 "nbformat": 4,
 "nbformat_minor": 5
}
