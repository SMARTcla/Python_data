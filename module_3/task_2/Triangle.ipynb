{
 "cells": [
  {
   "cell_type": "code",
   "execution_count": null,
   "metadata": {},
   "outputs": [],
   "source": [
    "%matplotlib inline\n",
    "import sys\n",
    "import matplotlib\n",
    "matplotlib.use('Agg')\n",
    "\n",
    "import matplotlib.pyplot as plt\n",
    "import numpy as np\n",
    "import random\n",
    "\n",
    "x = [10.0, 2 , -13.0]\n",
    "y = [8,-4,14]\n",
    "triangle_x = []\n",
    "triangle_y = []\n",
    "x0 = 1.0\n",
    "y0 = 0.0\n",
    "for i in range(1000000):\n",
    "    chosen_dot_triangle = random.randint(0, 2)\n",
    "    triangle_x.append((x[chosen_dot_triangle]+x0)/2.0)\n",
    "    triangle_y.append((y[chosen_dot_triangle]+y0)/2.0)\n",
    "    x0 = (x[chosen_dot_triangle]+x0)/2.0\n",
    "    y0 = (y[chosen_dot_triangle]+y0)/2.0\n",
    "    \n",
    "triangle_y = np.array(triangle_y)\n",
    "triangle_x = np.array(triangle_x)\n",
    "\n",
    "\n",
    "plt.scatter(triangle_x, triangle_y)\n",
    "plt.show()\n",
    "\n",
    "#Two  lines to make our compiler able to draw:\n",
    "plt.savefig(sys.stdout.buffer)\n",
    "sys.stdout.flush()\n",
    "    "
   ]
  },
  {
   "cell_type": "code",
   "execution_count": null,
   "metadata": {},
   "outputs": [],
   "source": []
  }
 ],
 "metadata": {
  "language_info": {
   "name": "python"
  },
  "orig_nbformat": 4
 },
 "nbformat": 4,
 "nbformat_minor": 2
}
