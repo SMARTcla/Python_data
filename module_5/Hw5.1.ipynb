{
 "cells": [
  {
   "cell_type": "code",
   "execution_count": 18,
   "id": "427d27e9",
   "metadata": {},
   "outputs": [
    {
     "data": {
      "text/plain": [
       "[<matplotlib.lines.Line2D at 0x17fb7d75780>]"
      ]
     },
     "execution_count": 18,
     "metadata": {},
     "output_type": "execute_result"
    },
    {
     "data": {
      "image/png": "[encoded data removed]",
      "text/plain": [
       "<Figure size 640x480 with 1 Axes>"
      ]
     },
     "metadata": {},
     "output_type": "display_data"
    }
   ],
   "source": [
    "from scipy.interpolate import griddata\n",
    "from scipy.optimize import minimize\n",
    "import numpy as np\n",
    "import matplotlib.pyplot as plt\n",
    "n = 1000\n",
    "x = np.linspace(0.01, n, 100000)\n",
    "def f(a):\n",
    "    return 2 * a + 1000 / a\n",
    "\n",
    "plt.plot(x,f(x))"
   ]
  },
  {
   "cell_type": "code",
   "execution_count": 7,
   "id": "31a41516",
   "metadata": {},
   "outputs": [
    {
     "data": {
      "text/plain": [
       " final_simplex: (array([[22.36070313],\n",
       "       [22.360625  ]]), array([89.4427191, 89.4427191]))\n",
       "           fun: 89.44271910004036\n",
       "       message: 'Optimization terminated successfully.'\n",
       "          nfev: 58\n",
       "           nit: 29\n",
       "        status: 0\n",
       "       success: True\n",
       "             x: array([22.36070313])"
      ]
     },
     "execution_count": 7,
     "metadata": {},
     "output_type": "execute_result"
    }
   ],
   "source": [
    "minimize(f,[0.1], method='Nelder-Mead' )"
   ]
  },
  {
   "cell_type": "code",
   "execution_count": 23,
   "id": "ddc0e683",
   "metadata": {},
   "outputs": [
    {
     "data": {
      "text/plain": [
       "     fun: 89.44271922264913\n",
       "     jac: array([-0.00020981])\n",
       " message: 'Optimization terminated successfully'\n",
       "    nfev: 48\n",
       "     nit: 19\n",
       "    njev: 19\n",
       "  status: 0\n",
       " success: True\n",
       "       x: array([22.35950876])"
      ]
     },
     "execution_count": 23,
     "metadata": {},
     "output_type": "execute_result"
    }
   ],
   "source": [
    "minimize(f, [0.1], bounds=[(0.1, n)], method='slsqp')"
   ]
  },
  {
   "cell_type": "code",
   "execution_count": 34,
   "id": "a630c25c",
   "metadata": {},
   "outputs": [
    {
     "data": {
      "text/plain": [
       "     fun: 89.44271909999738\n",
       "     jac: array([-0.00043774])\n",
       " message: 'Optimization terminated successfully'\n",
       "    nfev: 30\n",
       "     nit: 11\n",
       "    njev: 11\n",
       "  status: 0\n",
       " success: True\n",
       "       x: array([22.36067173])"
      ]
     },
     "execution_count": 34,
     "metadata": {},
     "output_type": "execute_result"
    }
   ],
   "source": [
    "cons = ({'type': 'ineq', 'fun': lambda x: x},)\n",
    "\n",
    "minimize(f, [1], constraints=cons)"
   ]
  },
  {
   "cell_type": "code",
   "execution_count": null,
   "id": "3b46789e",
   "metadata": {},
   "outputs": [],
   "source": []
  }
 ],
 "metadata": {
  "kernelspec": {
   "display_name": "Python 3 (ipykernel)",
   "language": "python",
   "name": "python3"
  },
  "language_info": {
   "codemirror_mode": {
    "name": "ipython",
    "version": 3
   },
   "file_extension": ".py",
   "mimetype": "text/x-python",
   "name": "python",
   "nbconvert_exporter": "python",
   "pygments_lexer": "ipython3",
   "version": "3.10.8"
  }
 },
 "nbformat": 4,
 "nbformat_minor": 5
}
