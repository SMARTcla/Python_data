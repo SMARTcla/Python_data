{
 "cells": [
  {
   "cell_type": "code",
   "execution_count": 2,
   "id": "3fa0d373",
   "metadata": {},
   "outputs": [
    {
     "name": "stdout",
     "output_type": "stream",
     "text": [
      "2.5\n",
      "0.06523367870707064\n",
      "4.93476632129293\n",
      "0.3373415832775386\n",
      "4.662658416722461\n",
      "0.8014760792524389\n",
      "4.1985239207475615\n",
      "1.4165115146768819\n",
      "3.583488485323118\n",
      "2.127814152545922\n",
      "2.872185847454078\n",
      "0.010857092435479831\n",
      "4.989142907564521\n",
      "0.17460627161072928\n",
      "4.825393728389271\n",
      "0.5479556835339578\n",
      "4.452044316466042\n",
      "1.0931071633284883\n",
      "3.9068928366715117\n",
      "1.7640178432463496\n",
      "3.2359821567536504\n",
      "(163.34373705800414, 1.8134797781011362e-12)\n"
     ]
    }
   ],
   "source": [
    "from scipy import integrate\n",
    "import numpy as np\n",
    "\n",
    "\n",
    "def func(x):\n",
    "    print(x)\n",
    "    f = (np.exp(x / 1) + np.exp(-x / 1)) ** 2\n",
    "    return np.pi * f\n",
    "\n",
    "\n",
    "result = integrate.quad(func, 0, 5)\n",
    "\n",
    "print(result)"
   ]
  },
  {
   "cell_type": "code",
   "execution_count": null,
   "id": "78992825",
   "metadata": {},
   "outputs": [],
   "source": []
  },
  {
   "cell_type": "code",
   "execution_count": null,
   "id": "5786fc23",
   "metadata": {},
   "outputs": [],
   "source": []
  },
  {
   "cell_type": "code",
   "execution_count": null,
   "id": "eb2083bd",
   "metadata": {},
   "outputs": [],
   "source": []
  }
 ],
 "metadata": {
  "kernelspec": {
   "display_name": "Python 3 (ipykernel)",
   "language": "python",
   "name": "python3"
  },
  "language_info": {
   "codemirror_mode": {
    "name": "ipython",
    "version": 3
   },
   "file_extension": ".py",
   "mimetype": "text/x-python",
   "name": "python",
   "nbconvert_exporter": "python",
   "pygments_lexer": "ipython3",
   "version": "3.10.8"
  }
 },
 "nbformat": 4,
 "nbformat_minor": 5
}
